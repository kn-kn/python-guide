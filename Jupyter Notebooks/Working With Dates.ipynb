{
 "cells": [
  {
   "cell_type": "markdown",
   "metadata": {},
   "source": [
    "# Working With Dates\n",
    "\n",
    "Note these links lead to the Github wiki pages for this section\n",
    "\n",
    "**[Importing Excel and CSV files with Dates](https://github.com/kn-kn/python-guide/wiki/Working-With-Dates/#importing-excel-and-csv-files-with-dates)**\n",
    "\n",
    "**[Changing Date formats From One to Another](https://github.com/kn-kn/python-guide/wiki/Working-With-Dates/#changing-dates-formats-from-one-to-another)**\n",
    "* [Changing a date that is an object/string to date - `to_datetime()`](https://github.com/kn-kn/python-guide/wiki/Working-With-Dates/#changing-a-date-that-is-an-object-or-string-to-date)\n",
    "* [Changing Datetime to Date - `dt.date`](https://github.com/kn-kn/python-guide/wiki/Working-With-Dates/#changing-datetime-to-date)\n",
    "\n",
    "**[Slicing/Filtering Data by Dates](https://github.com/kn-kn/python-guide/wiki/Working-With-Dates/#slicingfiltering-data-by-dates)**\n",
    "* [By Boolean Slicing](https://github.com/kn-kn/python-guide/wiki/Working-With-Dates/#by-boolean-slicing)\n",
    "* [Creating a new column based on dates - `np.where()`](https://github.com/kn-kn/python-guide/wiki/Working-With-Dates/#creating-a-new-column-based-on-dates)\n",
    "\n",
    "---\n",
    "\n",
    "## Importing Excel and CSV files with Dates\n",
    "\n",
    "[Documentation for `read_excel()`](https://pandas.pydata.org/pandas-docs/stable/reference/api/pandas.read_excel.html)\n",
    "\n",
    "[Documentation for `read_csv()`](https://pandas.pydata.org/pandas-docs/stable/reference/api/pandas.read_csv.html)\n",
    "\n",
    "If your file is in the following folder path: `C:/Desktop/My_File.xlsx` and has dates in its columns, then use `parse_dates`.\n",
    "\n",
    "`df = pd.read_csv(\"C:/Desktop/My_File.csv\", parse_dates=['Column_Name'])`\n",
    "\n",
    "---\n",
    "\n",
    "## Changing Dates Formats From One to Another\n",
    "\n",
    "### Changing a date that is an object or string to date\n",
    "\n",
    "[Documentation for `to_datetime()`](https://pandas.pydata.org/pandas-docs/stable/reference/api/pandas.to_datetime.html)\n",
    "\n",
    "Sometimes, your date columns will not be read properly by Python and you will have to manually change it yourself.\n",
    "\n",
    "**Use `to_datetime()` in the Pandas package.**\n",
    "\n",
    "`df['column'] = pd.to_datetime(df['column'])`\n",
    "\n",
    "**You can also pass a specific format if you wish.**\n",
    "\n",
    "`df['column'] = pd.to_datetime(df['column'], format=\"%Y-%m-%d\")`\n",
    "\n",
    "The example above would successfully read a date format of `2019-05-22`.\n",
    "\n",
    "The formatting can differ depending on how your date is displayed. Here is a table of commonly used codes:\n",
    "\n",
    "| Directive | Meaning |\n",
    "|-----------|---------|\n",
    "| %d        | Day     |\n",
    "| %m        | Month   |\n",
    "| %Y        | Year    |\n",
    "| %H        | Hour    |\n",
    "| %M        | Minute  |\n",
    "| %S        | Second  |\n",
    "\n",
    "Some examples of dates are the following:\n",
    "\n",
    "| Date                            | Example           | Formatting Required |\n",
    "|---------------------------------|-------------------|-----------------------|\n",
    "| Year-Month-Day                  | 2019-06-22        | %Y-%m-%d              |\n",
    "| Day/Month/Year                  | 25/5/2015         | %d/%m/%Y              |\n",
    "| YearMonthDay Hour:Minute:Second | 20180527 14:25:59 | %Y%m%d %H:%M:%S       |\n",
    "\n",
    "---\n",
    "\n",
    "### Changing Datetime to Date\n",
    "\n",
    "Use `dt.date` on your column to extract only the day, month, and year parts of your date.\n"
   ]
  },
  {
   "cell_type": "code",
   "execution_count": 1,
   "metadata": {
    "scrolled": true
   },
   "outputs": [
    {
     "data": {
      "text/html": [
       "<div>\n",
       "<style scoped>\n",
       "    .dataframe tbody tr th:only-of-type {\n",
       "        vertical-align: middle;\n",
       "    }\n",
       "\n",
       "    .dataframe tbody tr th {\n",
       "        vertical-align: top;\n",
       "    }\n",
       "\n",
       "    .dataframe thead th {\n",
       "        text-align: right;\n",
       "    }\n",
       "</style>\n",
       "<table border=\"1\" class=\"dataframe\">\n",
       "  <thead>\n",
       "    <tr style=\"text-align: right;\">\n",
       "      <th></th>\n",
       "      <th>Date</th>\n",
       "    </tr>\n",
       "  </thead>\n",
       "  <tbody>\n",
       "    <tr>\n",
       "      <th>0</th>\n",
       "      <td>2010-01-01 22:00:00</td>\n",
       "    </tr>\n",
       "    <tr>\n",
       "      <th>1</th>\n",
       "      <td>2011-02-02 15:00:00</td>\n",
       "    </tr>\n",
       "    <tr>\n",
       "      <th>2</th>\n",
       "      <td>2012-03-03 04:00:00</td>\n",
       "    </tr>\n",
       "    <tr>\n",
       "      <th>3</th>\n",
       "      <td>2013-04-04 09:15:00</td>\n",
       "    </tr>\n",
       "    <tr>\n",
       "      <th>4</th>\n",
       "      <td>2014-05-05 01:00:00</td>\n",
       "    </tr>\n",
       "    <tr>\n",
       "      <th>5</th>\n",
       "      <td>2015-06-06 05:18:00</td>\n",
       "    </tr>\n",
       "  </tbody>\n",
       "</table>\n",
       "</div>"
      ],
      "text/plain": [
       "                 Date\n",
       "0 2010-01-01 22:00:00\n",
       "1 2011-02-02 15:00:00\n",
       "2 2012-03-03 04:00:00\n",
       "3 2013-04-04 09:15:00\n",
       "4 2014-05-05 01:00:00\n",
       "5 2015-06-06 05:18:00"
      ]
     },
     "execution_count": 1,
     "metadata": {},
     "output_type": "execute_result"
    }
   ],
   "source": [
    "import pandas as pd\n",
    "import numpy as np\n",
    "\n",
    "# Prepare data for examples\n",
    "raw_data = {'Date': ['2010-01-01 22:00:00', '2011-02-02 15:00:00', '2012-03-03 04:00:00',\n",
    "                     '2013-04-04 09:15:00', '2014-05-05 01:00:00', '2015-06-06 05:18:00']}\n",
    "        \n",
    "df = pd.DataFrame(raw_data, columns = ['Date'])\n",
    "df['Date'] = pd.to_datetime(df['Date'], format= '%Y-%m-%d %H:%M:%S')\n",
    "df"
   ]
  },
  {
   "cell_type": "code",
   "execution_count": 2,
   "metadata": {},
   "outputs": [
    {
     "data": {
      "text/html": [
       "<div>\n",
       "<style scoped>\n",
       "    .dataframe tbody tr th:only-of-type {\n",
       "        vertical-align: middle;\n",
       "    }\n",
       "\n",
       "    .dataframe tbody tr th {\n",
       "        vertical-align: top;\n",
       "    }\n",
       "\n",
       "    .dataframe thead th {\n",
       "        text-align: right;\n",
       "    }\n",
       "</style>\n",
       "<table border=\"1\" class=\"dataframe\">\n",
       "  <thead>\n",
       "    <tr style=\"text-align: right;\">\n",
       "      <th></th>\n",
       "      <th>Date</th>\n",
       "    </tr>\n",
       "  </thead>\n",
       "  <tbody>\n",
       "    <tr>\n",
       "      <th>0</th>\n",
       "      <td>2010-01-01</td>\n",
       "    </tr>\n",
       "    <tr>\n",
       "      <th>1</th>\n",
       "      <td>2011-02-02</td>\n",
       "    </tr>\n",
       "    <tr>\n",
       "      <th>2</th>\n",
       "      <td>2012-03-03</td>\n",
       "    </tr>\n",
       "    <tr>\n",
       "      <th>3</th>\n",
       "      <td>2013-04-04</td>\n",
       "    </tr>\n",
       "    <tr>\n",
       "      <th>4</th>\n",
       "      <td>2014-05-05</td>\n",
       "    </tr>\n",
       "    <tr>\n",
       "      <th>5</th>\n",
       "      <td>2015-06-06</td>\n",
       "    </tr>\n",
       "  </tbody>\n",
       "</table>\n",
       "</div>"
      ],
      "text/plain": [
       "         Date\n",
       "0  2010-01-01\n",
       "1  2011-02-02\n",
       "2  2012-03-03\n",
       "3  2013-04-04\n",
       "4  2014-05-05\n",
       "5  2015-06-06"
      ]
     },
     "execution_count": 2,
     "metadata": {},
     "output_type": "execute_result"
    }
   ],
   "source": [
    "df['Date'] = df['Date'].dt.date\n",
    "df"
   ]
  },
  {
   "cell_type": "markdown",
   "metadata": {},
   "source": [
    "**Note:** the above code changes your dates column from a datetime type to an object. To keep it as a datetime type without the time, consider adding `to_datetime` in your code."
   ]
  },
  {
   "cell_type": "code",
   "execution_count": 3,
   "metadata": {},
   "outputs": [
    {
     "data": {
      "text/plain": [
       "Date    object\n",
       "dtype: object"
      ]
     },
     "execution_count": 3,
     "metadata": {},
     "output_type": "execute_result"
    }
   ],
   "source": [
    "df.dtypes"
   ]
  },
  {
   "cell_type": "code",
   "execution_count": 4,
   "metadata": {},
   "outputs": [
    {
     "data": {
      "text/plain": [
       "Date    datetime64[ns]\n",
       "dtype: object"
      ]
     },
     "execution_count": 4,
     "metadata": {},
     "output_type": "execute_result"
    }
   ],
   "source": [
    "# Reset the data\n",
    "df = pd.DataFrame(raw_data, columns = ['Date'])\n",
    "df['Date'] = pd.to_datetime(df['Date'], format= '%Y-%m-%d %H:%M:%S')\n",
    "\n",
    "# Apply to_datetime\n",
    "df['Date'] = pd.to_datetime(df['Date'].dt.date)\n",
    "df.dtypes"
   ]
  },
  {
   "cell_type": "markdown",
   "metadata": {},
   "source": [
    "## Slicing/Filtering Data by Dates\n",
    "\n",
    "### By Boolean Slicing\n",
    "\n",
    "Slicing your data by dates works in the same manner as the examples found in the **Slicing, Filtering, and Merging** section of this guide."
   ]
  },
  {
   "cell_type": "code",
   "execution_count": 5,
   "metadata": {},
   "outputs": [
    {
     "data": {
      "text/html": [
       "<div>\n",
       "<style scoped>\n",
       "    .dataframe tbody tr th:only-of-type {\n",
       "        vertical-align: middle;\n",
       "    }\n",
       "\n",
       "    .dataframe tbody tr th {\n",
       "        vertical-align: top;\n",
       "    }\n",
       "\n",
       "    .dataframe thead th {\n",
       "        text-align: right;\n",
       "    }\n",
       "</style>\n",
       "<table border=\"1\" class=\"dataframe\">\n",
       "  <thead>\n",
       "    <tr style=\"text-align: right;\">\n",
       "      <th></th>\n",
       "      <th>Date</th>\n",
       "    </tr>\n",
       "  </thead>\n",
       "  <tbody>\n",
       "    <tr>\n",
       "      <th>0</th>\n",
       "      <td>2010-01-01 22:00:00</td>\n",
       "    </tr>\n",
       "    <tr>\n",
       "      <th>1</th>\n",
       "      <td>2011-02-02 15:00:00</td>\n",
       "    </tr>\n",
       "    <tr>\n",
       "      <th>2</th>\n",
       "      <td>2012-03-03 04:00:00</td>\n",
       "    </tr>\n",
       "    <tr>\n",
       "      <th>3</th>\n",
       "      <td>2013-04-04 09:15:00</td>\n",
       "    </tr>\n",
       "    <tr>\n",
       "      <th>4</th>\n",
       "      <td>2014-05-05 01:00:00</td>\n",
       "    </tr>\n",
       "    <tr>\n",
       "      <th>5</th>\n",
       "      <td>2015-06-06 05:18:00</td>\n",
       "    </tr>\n",
       "  </tbody>\n",
       "</table>\n",
       "</div>"
      ],
      "text/plain": [
       "                 Date\n",
       "0 2010-01-01 22:00:00\n",
       "1 2011-02-02 15:00:00\n",
       "2 2012-03-03 04:00:00\n",
       "3 2013-04-04 09:15:00\n",
       "4 2014-05-05 01:00:00\n",
       "5 2015-06-06 05:18:00"
      ]
     },
     "execution_count": 5,
     "metadata": {},
     "output_type": "execute_result"
    }
   ],
   "source": [
    "# Prep Data\n",
    "df = pd.DataFrame(raw_data, columns = ['Date'])\n",
    "df['Date'] = pd.to_datetime(df['Date'], format= '%Y-%m-%d %H:%M:%S')\n",
    "df"
   ]
  },
  {
   "cell_type": "code",
   "execution_count": 6,
   "metadata": {},
   "outputs": [
    {
     "data": {
      "text/html": [
       "<div>\n",
       "<style scoped>\n",
       "    .dataframe tbody tr th:only-of-type {\n",
       "        vertical-align: middle;\n",
       "    }\n",
       "\n",
       "    .dataframe tbody tr th {\n",
       "        vertical-align: top;\n",
       "    }\n",
       "\n",
       "    .dataframe thead th {\n",
       "        text-align: right;\n",
       "    }\n",
       "</style>\n",
       "<table border=\"1\" class=\"dataframe\">\n",
       "  <thead>\n",
       "    <tr style=\"text-align: right;\">\n",
       "      <th></th>\n",
       "      <th>Date</th>\n",
       "    </tr>\n",
       "  </thead>\n",
       "  <tbody>\n",
       "    <tr>\n",
       "      <th>2</th>\n",
       "      <td>2012-03-03 04:00:00</td>\n",
       "    </tr>\n",
       "    <tr>\n",
       "      <th>3</th>\n",
       "      <td>2013-04-04 09:15:00</td>\n",
       "    </tr>\n",
       "    <tr>\n",
       "      <th>4</th>\n",
       "      <td>2014-05-05 01:00:00</td>\n",
       "    </tr>\n",
       "    <tr>\n",
       "      <th>5</th>\n",
       "      <td>2015-06-06 05:18:00</td>\n",
       "    </tr>\n",
       "  </tbody>\n",
       "</table>\n",
       "</div>"
      ],
      "text/plain": [
       "                 Date\n",
       "2 2012-03-03 04:00:00\n",
       "3 2013-04-04 09:15:00\n",
       "4 2014-05-05 01:00:00\n",
       "5 2015-06-06 05:18:00"
      ]
     },
     "execution_count": 6,
     "metadata": {},
     "output_type": "execute_result"
    }
   ],
   "source": [
    "df[df['Date'] > '2012-01-01']"
   ]
  },
  {
   "cell_type": "code",
   "execution_count": 7,
   "metadata": {},
   "outputs": [
    {
     "data": {
      "text/html": [
       "<div>\n",
       "<style scoped>\n",
       "    .dataframe tbody tr th:only-of-type {\n",
       "        vertical-align: middle;\n",
       "    }\n",
       "\n",
       "    .dataframe tbody tr th {\n",
       "        vertical-align: top;\n",
       "    }\n",
       "\n",
       "    .dataframe thead th {\n",
       "        text-align: right;\n",
       "    }\n",
       "</style>\n",
       "<table border=\"1\" class=\"dataframe\">\n",
       "  <thead>\n",
       "    <tr style=\"text-align: right;\">\n",
       "      <th></th>\n",
       "      <th>Date</th>\n",
       "    </tr>\n",
       "  </thead>\n",
       "  <tbody>\n",
       "    <tr>\n",
       "      <th>0</th>\n",
       "      <td>2010-01-01 22:00:00</td>\n",
       "    </tr>\n",
       "    <tr>\n",
       "      <th>4</th>\n",
       "      <td>2014-05-05 01:00:00</td>\n",
       "    </tr>\n",
       "    <tr>\n",
       "      <th>5</th>\n",
       "      <td>2015-06-06 05:18:00</td>\n",
       "    </tr>\n",
       "  </tbody>\n",
       "</table>\n",
       "</div>"
      ],
      "text/plain": [
       "                 Date\n",
       "0 2010-01-01 22:00:00\n",
       "4 2014-05-05 01:00:00\n",
       "5 2015-06-06 05:18:00"
      ]
     },
     "execution_count": 7,
     "metadata": {},
     "output_type": "execute_result"
    }
   ],
   "source": [
    "df[(df['Date'] >= '2014-05-05') | (df['Date'] < '2011-02-02')]"
   ]
  },
  {
   "cell_type": "markdown",
   "metadata": {},
   "source": [
    "### Creating a new column based on dates\n",
    "\n",
    "Create a new column based on the dates of another using `np.where()`"
   ]
  },
  {
   "cell_type": "code",
   "execution_count": 8,
   "metadata": {},
   "outputs": [
    {
     "data": {
      "text/html": [
       "<div>\n",
       "<style scoped>\n",
       "    .dataframe tbody tr th:only-of-type {\n",
       "        vertical-align: middle;\n",
       "    }\n",
       "\n",
       "    .dataframe tbody tr th {\n",
       "        vertical-align: top;\n",
       "    }\n",
       "\n",
       "    .dataframe thead th {\n",
       "        text-align: right;\n",
       "    }\n",
       "</style>\n",
       "<table border=\"1\" class=\"dataframe\">\n",
       "  <thead>\n",
       "    <tr style=\"text-align: right;\">\n",
       "      <th></th>\n",
       "      <th>Date</th>\n",
       "      <th>Result</th>\n",
       "    </tr>\n",
       "  </thead>\n",
       "  <tbody>\n",
       "    <tr>\n",
       "      <th>0</th>\n",
       "      <td>2010-01-01 22:00:00</td>\n",
       "      <td>Very Old</td>\n",
       "    </tr>\n",
       "    <tr>\n",
       "      <th>1</th>\n",
       "      <td>2011-02-02 15:00:00</td>\n",
       "      <td>Very Old</td>\n",
       "    </tr>\n",
       "    <tr>\n",
       "      <th>2</th>\n",
       "      <td>2012-03-03 04:00:00</td>\n",
       "      <td>Very Old</td>\n",
       "    </tr>\n",
       "    <tr>\n",
       "      <th>3</th>\n",
       "      <td>2013-04-04 09:15:00</td>\n",
       "      <td>Relatively New</td>\n",
       "    </tr>\n",
       "    <tr>\n",
       "      <th>4</th>\n",
       "      <td>2014-05-05 01:00:00</td>\n",
       "      <td>Relatively New</td>\n",
       "    </tr>\n",
       "    <tr>\n",
       "      <th>5</th>\n",
       "      <td>2015-06-06 05:18:00</td>\n",
       "      <td>Relatively New</td>\n",
       "    </tr>\n",
       "  </tbody>\n",
       "</table>\n",
       "</div>"
      ],
      "text/plain": [
       "                 Date          Result\n",
       "0 2010-01-01 22:00:00        Very Old\n",
       "1 2011-02-02 15:00:00        Very Old\n",
       "2 2012-03-03 04:00:00        Very Old\n",
       "3 2013-04-04 09:15:00  Relatively New\n",
       "4 2014-05-05 01:00:00  Relatively New\n",
       "5 2015-06-06 05:18:00  Relatively New"
      ]
     },
     "execution_count": 8,
     "metadata": {},
     "output_type": "execute_result"
    }
   ],
   "source": [
    "df['Result'] = np.where(df['Date'] > '2013-01-01', 'Relatively New', 'Very Old')\n",
    "df"
   ]
  }
 ],
 "metadata": {
  "kernelspec": {
   "display_name": "Python 3",
   "language": "python",
   "name": "python3"
  },
  "language_info": {
   "codemirror_mode": {
    "name": "ipython",
    "version": 3
   },
   "file_extension": ".py",
   "mimetype": "text/x-python",
   "name": "python",
   "nbconvert_exporter": "python",
   "pygments_lexer": "ipython3",
   "version": "3.7.3"
  }
 },
 "nbformat": 4,
 "nbformat_minor": 2
}
