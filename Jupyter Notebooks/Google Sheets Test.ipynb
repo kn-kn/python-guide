{
 "cells": [
  {
   "cell_type": "markdown",
   "metadata": {},
   "source": [
    "## Utilizing Pandas with Google Sheets Data\n",
    "\n",
    "### Importing Google Sheet data into a Pandas Dataframe in your Python Environment\n",
    "\n",
    "To connect to an existing Google Sheet on your account, use `open` and pass a parameter that is the name of your Google Sheet. In the example below, I use the [2017 US Legislators Google Sheet](https://docs.google.com/spreadsheets/d/1KK432FFgQ18lP-juSq10ae1ZX1lfa7FTELQFY9bDC38/edit#gid=152787366)."
   ]
  },
  {
   "cell_type": "code",
   "execution_count": 14,
   "metadata": {},
   "outputs": [],
   "source": [
    "import pygsheets\n",
    "import pandas as pd"
   ]
  },
  {
   "cell_type": "code",
   "execution_count": 3,
   "metadata": {},
   "outputs": [],
   "source": [
    "gc = pygsheets.authorize('client_secret.json')\n",
    "sh = gc.open('Legislators 2017')"
   ]
  },
  {
   "cell_type": "markdown",
   "metadata": {},
   "source": [
    "Now that you've connected to the Google Sheet using the variable `sh`, you can select a specific sheet using `worksheet_by_title`. By doing this, `wks` now contains all the data in legislators-current."
   ]
  },
  {
   "cell_type": "code",
   "execution_count": 4,
   "metadata": {},
   "outputs": [],
   "source": [
    "wks = sh.worksheet_by_title('legislators-current')"
   ]
  },
  {
   "cell_type": "code",
   "execution_count": 5,
   "metadata": {},
   "outputs": [
    {
     "data": {
      "text/plain": [
       "<Worksheet 'legislators-current' index:0>"
      ]
     },
     "execution_count": 5,
     "metadata": {},
     "output_type": "execute_result"
    }
   ],
   "source": [
    "wks"
   ]
  },
  {
   "cell_type": "markdown",
   "metadata": {},
   "source": [
    "Now we can transform this into a Pandas Dataframe using `get_as_df()`."
   ]
  },
  {
   "cell_type": "code",
   "execution_count": 6,
   "metadata": {},
   "outputs": [],
   "source": [
    "df = wks.get_as_df()"
   ]
  },
  {
   "cell_type": "code",
   "execution_count": 7,
   "metadata": {
    "scrolled": true
   },
   "outputs": [
    {
     "data": {
      "text/html": [
       "<div>\n",
       "<style scoped>\n",
       "    .dataframe tbody tr th:only-of-type {\n",
       "        vertical-align: middle;\n",
       "    }\n",
       "\n",
       "    .dataframe tbody tr th {\n",
       "        vertical-align: top;\n",
       "    }\n",
       "\n",
       "    .dataframe thead th {\n",
       "        text-align: right;\n",
       "    }\n",
       "</style>\n",
       "<table border=\"1\" class=\"dataframe\">\n",
       "  <thead>\n",
       "    <tr style=\"text-align: right;\">\n",
       "      <th></th>\n",
       "      <th>last_name</th>\n",
       "      <th>first_name</th>\n",
       "      <th>birthday</th>\n",
       "      <th>gender</th>\n",
       "      <th>type</th>\n",
       "      <th>state</th>\n",
       "      <th>district</th>\n",
       "      <th>party</th>\n",
       "      <th>url</th>\n",
       "      <th>address</th>\n",
       "      <th>...</th>\n",
       "      <th>lis_id</th>\n",
       "      <th>cspan_id</th>\n",
       "      <th>govtrack_id</th>\n",
       "      <th>votesmart_id</th>\n",
       "      <th>ballotpedia_id</th>\n",
       "      <th>washington_post_id</th>\n",
       "      <th>icpsr_id</th>\n",
       "      <th>wikipedia_id</th>\n",
       "      <th></th>\n",
       "      <th></th>\n",
       "    </tr>\n",
       "  </thead>\n",
       "  <tbody>\n",
       "    <tr>\n",
       "      <th>0</th>\n",
       "      <td>Brown</td>\n",
       "      <td>Sherrod</td>\n",
       "      <td>11/9/1952</td>\n",
       "      <td>M</td>\n",
       "      <td>sen</td>\n",
       "      <td>OH</td>\n",
       "      <td></td>\n",
       "      <td>Democrat</td>\n",
       "      <td>https://www.brown.senate.gov</td>\n",
       "      <td>713 Hart Senate Office Building Washington DC ...</td>\n",
       "      <td>...</td>\n",
       "      <td>S307</td>\n",
       "      <td>5051</td>\n",
       "      <td>400050</td>\n",
       "      <td>27018</td>\n",
       "      <td>Sherrod Brown</td>\n",
       "      <td></td>\n",
       "      <td>29389</td>\n",
       "      <td>Sherrod Brown</td>\n",
       "      <td></td>\n",
       "      <td></td>\n",
       "    </tr>\n",
       "    <tr>\n",
       "      <th>1</th>\n",
       "      <td>Cantwell</td>\n",
       "      <td>Maria</td>\n",
       "      <td>10/13/1958</td>\n",
       "      <td>F</td>\n",
       "      <td>sen</td>\n",
       "      <td>WA</td>\n",
       "      <td></td>\n",
       "      <td>Democrat</td>\n",
       "      <td>https://www.cantwell.senate.gov</td>\n",
       "      <td>511 Hart Senate Office Building Washington DC ...</td>\n",
       "      <td>...</td>\n",
       "      <td>S275</td>\n",
       "      <td>26137</td>\n",
       "      <td>300018</td>\n",
       "      <td>27122</td>\n",
       "      <td>Maria Cantwell</td>\n",
       "      <td></td>\n",
       "      <td>39310</td>\n",
       "      <td>Maria Cantwell</td>\n",
       "      <td></td>\n",
       "      <td></td>\n",
       "    </tr>\n",
       "    <tr>\n",
       "      <th>2</th>\n",
       "      <td>Cardin</td>\n",
       "      <td>Benjamin</td>\n",
       "      <td>10/5/1943</td>\n",
       "      <td>M</td>\n",
       "      <td>sen</td>\n",
       "      <td>MD</td>\n",
       "      <td></td>\n",
       "      <td>Democrat</td>\n",
       "      <td>https://www.cardin.senate.gov</td>\n",
       "      <td>509 Hart Senate Office Building Washington DC ...</td>\n",
       "      <td>...</td>\n",
       "      <td>S308</td>\n",
       "      <td>4004</td>\n",
       "      <td>400064</td>\n",
       "      <td>26888</td>\n",
       "      <td>Ben Cardin</td>\n",
       "      <td></td>\n",
       "      <td>15408</td>\n",
       "      <td>Ben Cardin</td>\n",
       "      <td></td>\n",
       "      <td></td>\n",
       "    </tr>\n",
       "  </tbody>\n",
       "</table>\n",
       "<p>3 rows × 31 columns</p>\n",
       "</div>"
      ],
      "text/plain": [
       "  last_name first_name    birthday gender type state district     party  \\\n",
       "0     Brown    Sherrod   11/9/1952      M  sen    OH           Democrat   \n",
       "1  Cantwell      Maria  10/13/1958      F  sen    WA           Democrat   \n",
       "2    Cardin   Benjamin   10/5/1943      M  sen    MD           Democrat   \n",
       "\n",
       "                               url  \\\n",
       "0     https://www.brown.senate.gov   \n",
       "1  https://www.cantwell.senate.gov   \n",
       "2    https://www.cardin.senate.gov   \n",
       "\n",
       "                                             address  ... lis_id cspan_id  \\\n",
       "0  713 Hart Senate Office Building Washington DC ...  ...   S307     5051   \n",
       "1  511 Hart Senate Office Building Washington DC ...  ...   S275    26137   \n",
       "2  509 Hart Senate Office Building Washington DC ...  ...   S308     4004   \n",
       "\n",
       "  govtrack_id votesmart_id  ballotpedia_id washington_post_id icpsr_id  \\\n",
       "0      400050        27018   Sherrod Brown                       29389   \n",
       "1      300018        27122  Maria Cantwell                       39310   \n",
       "2      400064        26888      Ben Cardin                       15408   \n",
       "\n",
       "     wikipedia_id      \n",
       "0   Sherrod Brown      \n",
       "1  Maria Cantwell      \n",
       "2      Ben Cardin      \n",
       "\n",
       "[3 rows x 31 columns]"
      ]
     },
     "execution_count": 7,
     "metadata": {},
     "output_type": "execute_result"
    }
   ],
   "source": [
    "df.head(3)"
   ]
  },
  {
   "cell_type": "markdown",
   "metadata": {},
   "source": [
    "Lets do some simple manipulations. Change the party to either blue or red depending on their political party."
   ]
  },
  {
   "cell_type": "code",
   "execution_count": 8,
   "metadata": {},
   "outputs": [],
   "source": [
    "# Complete some simple data manipulation\n",
    "df['party'] = np.where(df.party == 'Democrat', 'Blue',\n",
    "                       (np.where(df.party == 'Republican', 'Red', 'White')))"
   ]
  },
  {
   "cell_type": "code",
   "execution_count": 10,
   "metadata": {},
   "outputs": [
    {
     "data": {
      "text/html": [
       "<div>\n",
       "<style scoped>\n",
       "    .dataframe tbody tr th:only-of-type {\n",
       "        vertical-align: middle;\n",
       "    }\n",
       "\n",
       "    .dataframe tbody tr th {\n",
       "        vertical-align: top;\n",
       "    }\n",
       "\n",
       "    .dataframe thead th {\n",
       "        text-align: right;\n",
       "    }\n",
       "</style>\n",
       "<table border=\"1\" class=\"dataframe\">\n",
       "  <thead>\n",
       "    <tr style=\"text-align: right;\">\n",
       "      <th></th>\n",
       "      <th>last_name</th>\n",
       "      <th>first_name</th>\n",
       "      <th>birthday</th>\n",
       "      <th>gender</th>\n",
       "      <th>type</th>\n",
       "      <th>state</th>\n",
       "      <th>district</th>\n",
       "      <th>party</th>\n",
       "      <th>url</th>\n",
       "      <th>address</th>\n",
       "      <th>...</th>\n",
       "      <th>lis_id</th>\n",
       "      <th>cspan_id</th>\n",
       "      <th>govtrack_id</th>\n",
       "      <th>votesmart_id</th>\n",
       "      <th>ballotpedia_id</th>\n",
       "      <th>washington_post_id</th>\n",
       "      <th>icpsr_id</th>\n",
       "      <th>wikipedia_id</th>\n",
       "      <th></th>\n",
       "      <th></th>\n",
       "    </tr>\n",
       "  </thead>\n",
       "  <tbody>\n",
       "    <tr>\n",
       "      <th>0</th>\n",
       "      <td>Brown</td>\n",
       "      <td>Sherrod</td>\n",
       "      <td>11/9/1952</td>\n",
       "      <td>M</td>\n",
       "      <td>sen</td>\n",
       "      <td>OH</td>\n",
       "      <td></td>\n",
       "      <td>Blue</td>\n",
       "      <td>https://www.brown.senate.gov</td>\n",
       "      <td>713 Hart Senate Office Building Washington DC ...</td>\n",
       "      <td>...</td>\n",
       "      <td>S307</td>\n",
       "      <td>5051</td>\n",
       "      <td>400050</td>\n",
       "      <td>27018</td>\n",
       "      <td>Sherrod Brown</td>\n",
       "      <td></td>\n",
       "      <td>29389</td>\n",
       "      <td>Sherrod Brown</td>\n",
       "      <td></td>\n",
       "      <td></td>\n",
       "    </tr>\n",
       "    <tr>\n",
       "      <th>1</th>\n",
       "      <td>Cantwell</td>\n",
       "      <td>Maria</td>\n",
       "      <td>10/13/1958</td>\n",
       "      <td>F</td>\n",
       "      <td>sen</td>\n",
       "      <td>WA</td>\n",
       "      <td></td>\n",
       "      <td>Blue</td>\n",
       "      <td>https://www.cantwell.senate.gov</td>\n",
       "      <td>511 Hart Senate Office Building Washington DC ...</td>\n",
       "      <td>...</td>\n",
       "      <td>S275</td>\n",
       "      <td>26137</td>\n",
       "      <td>300018</td>\n",
       "      <td>27122</td>\n",
       "      <td>Maria Cantwell</td>\n",
       "      <td></td>\n",
       "      <td>39310</td>\n",
       "      <td>Maria Cantwell</td>\n",
       "      <td></td>\n",
       "      <td></td>\n",
       "    </tr>\n",
       "    <tr>\n",
       "      <th>2</th>\n",
       "      <td>Cardin</td>\n",
       "      <td>Benjamin</td>\n",
       "      <td>10/5/1943</td>\n",
       "      <td>M</td>\n",
       "      <td>sen</td>\n",
       "      <td>MD</td>\n",
       "      <td></td>\n",
       "      <td>Blue</td>\n",
       "      <td>https://www.cardin.senate.gov</td>\n",
       "      <td>509 Hart Senate Office Building Washington DC ...</td>\n",
       "      <td>...</td>\n",
       "      <td>S308</td>\n",
       "      <td>4004</td>\n",
       "      <td>400064</td>\n",
       "      <td>26888</td>\n",
       "      <td>Ben Cardin</td>\n",
       "      <td></td>\n",
       "      <td>15408</td>\n",
       "      <td>Ben Cardin</td>\n",
       "      <td></td>\n",
       "      <td></td>\n",
       "    </tr>\n",
       "  </tbody>\n",
       "</table>\n",
       "<p>3 rows × 31 columns</p>\n",
       "</div>"
      ],
      "text/plain": [
       "  last_name first_name    birthday gender type state district party  \\\n",
       "0     Brown    Sherrod   11/9/1952      M  sen    OH           Blue   \n",
       "1  Cantwell      Maria  10/13/1958      F  sen    WA           Blue   \n",
       "2    Cardin   Benjamin   10/5/1943      M  sen    MD           Blue   \n",
       "\n",
       "                               url  \\\n",
       "0     https://www.brown.senate.gov   \n",
       "1  https://www.cantwell.senate.gov   \n",
       "2    https://www.cardin.senate.gov   \n",
       "\n",
       "                                             address  ... lis_id cspan_id  \\\n",
       "0  713 Hart Senate Office Building Washington DC ...  ...   S307     5051   \n",
       "1  511 Hart Senate Office Building Washington DC ...  ...   S275    26137   \n",
       "2  509 Hart Senate Office Building Washington DC ...  ...   S308     4004   \n",
       "\n",
       "  govtrack_id votesmart_id  ballotpedia_id washington_post_id icpsr_id  \\\n",
       "0      400050        27018   Sherrod Brown                       29389   \n",
       "1      300018        27122  Maria Cantwell                       39310   \n",
       "2      400064        26888      Ben Cardin                       15408   \n",
       "\n",
       "     wikipedia_id      \n",
       "0   Sherrod Brown      \n",
       "1  Maria Cantwell      \n",
       "2      Ben Cardin      \n",
       "\n",
       "[3 rows x 31 columns]"
      ]
     },
     "execution_count": 10,
     "metadata": {},
     "output_type": "execute_result"
    }
   ],
   "source": [
    "df.head(3)"
   ]
  },
  {
   "cell_type": "markdown",
   "metadata": {},
   "source": [
    "### Exporting local Pandas data to Google Sheets\n",
    "\n",
    "#### Overwriting an Existing Sheet\n",
    "\n",
    "To overwrite a worksheet with your Pandas Dataframe, use `set_dataframe(dataframe, start, nan)` where the following parameters are:\n",
    "\n",
    "* `dataframe`: the name of your Pandas Dataframe you are sending to Google Sheets\n",
    "* `start`: the initial cell the data gets pasted into\n",
    "* `nan`: If there is missing data, what should they replaced with\n",
    "\n",
    "In our example above, we used the following:\n",
    "\n",
    "`wks = sh.worksheet_by_title('legislators-current')`\n",
    "\n",
    "Therefore we can do the following to have the data start at cell A1 and replace all missing data with blank cells:"
   ]
  },
  {
   "cell_type": "code",
   "execution_count": 11,
   "metadata": {},
   "outputs": [],
   "source": [
    "wks.set_dataframe(df, start = \"A1\", nan = \"\")"
   ]
  },
  {
   "cell_type": "markdown",
   "metadata": {},
   "source": [
    "#### Create a New Sheet and Place data into it\n",
    "\n",
    "First you will need to create a new worksheet using `add_worksheet()` and then select it by using `worksheet_by_title()`. Lets create a new worksheet named `Sheet2`."
   ]
  },
  {
   "cell_type": "code",
   "execution_count": 12,
   "metadata": {
    "scrolled": true
   },
   "outputs": [],
   "source": [
    "sh.add_worksheet('Sheet2')\n",
    "second_wks = sh.worksheet_by_title('Sheet2')"
   ]
  },
  {
   "cell_type": "markdown",
   "metadata": {},
   "source": [
    "Now you can copy the Dataframe you have into Sheet2 using `set_dataframe`."
   ]
  },
  {
   "cell_type": "code",
   "execution_count": 13,
   "metadata": {},
   "outputs": [],
   "source": [
    "second_wks.set_dataframe(df, start = \"A1\", nan = \"\")"
   ]
  }
 ],
 "metadata": {
  "kernelspec": {
   "display_name": "Python 3",
   "language": "python",
   "name": "python3"
  },
  "language_info": {
   "codemirror_mode": {
    "name": "ipython",
    "version": 3
   },
   "file_extension": ".py",
   "mimetype": "text/x-python",
   "name": "python",
   "nbconvert_exporter": "python",
   "pygments_lexer": "ipython3",
   "version": "3.7.3"
  }
 },
 "nbformat": 4,
 "nbformat_minor": 2
}
