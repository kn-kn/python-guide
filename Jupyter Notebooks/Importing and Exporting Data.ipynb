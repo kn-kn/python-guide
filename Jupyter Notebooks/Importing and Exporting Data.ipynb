{
 "cells": [
  {
   "cell_type": "markdown",
   "metadata": {},
   "source": [
    "# Importing and Exporting Data\n",
    "\n",
    "Note these links lead to the Github wiki pages for this section\n",
    "\n",
    "**[Importing Excel and CSV files into Python](https://github.com/kn-kn/python-guide/wiki/Importing-and-Exporting-Data#importing-excel-and-csv-files-into-python)**\n",
    "* [Specifying Additional Parameters when Importing](https://github.com/kn-kn/python-guide/wiki/Importing-and-Exporting-Data#specifying-additional-parameters-when-importing)\n",
    "* [Dates](https://github.com/kn-kn/python-guide/wiki/Importing-and-Exporting-Data#dates)\n",
    "* [Selecting a specific Excel Sheet to Parse](https://github.com/kn-kn/python-guide/wiki/Importing-and-Exporting-Data#selecting-a-specific-excel-sheet-to-parse)\n",
    "* [Skipping the First Row of Data](https://github.com/kn-kn/python-guide/wiki/Importing-and-Exporting-Data#skipping-the-first-row-of-data)\n",
    "* [Create a DataFrame from your clipboard (right click + copy)](https://github.com/kn-kn/python-guide/wiki/Importing-and-Exporting-Data#create-a-dataframe-from-your-clipboard-right-click--copy)\n",
    "\n",
    "**[Exporting Dataframes out of Python](https://github.com/kn-kn/python-guide/wiki/Importing-and-Exporting-Data#exporting-dataframes-out-of-python)**\n",
    "* [Exporting Multiple Dataframes into a single Excel File](https://github.com/kn-kn/python-guide/wiki/Importing-and-Exporting-Data#exporting-multiple-dataframes-into-a-single-excel-file)"
   ]
  },
  {
   "cell_type": "markdown",
   "metadata": {},
   "source": [
    "## Importing Excel and CSV files into Python\n",
    "\n",
    "[Documentation for `read_excel()`](https://pandas.pydata.org/pandas-docs/stable/reference/api/pandas.read_excel.html)\n",
    "\n",
    "[Documentation for `read_csv()`](https://pandas.pydata.org/pandas-docs/stable/reference/api/pandas.read_csv.html)\n",
    "\n",
    "Assuming your file is in the following folder path: `C:/Desktop/My_File.xlsx`"
   ]
  },
  {
   "cell_type": "code",
   "execution_count": 1,
   "metadata": {},
   "outputs": [],
   "source": [
    "import pandas as pd"
   ]
  },
  {
   "cell_type": "markdown",
   "metadata": {},
   "source": [
    "**Importing an Excel File**\n",
    "\n",
    "`df = pd.read_excel(\"C:/Desktop/My_File.xlsx\")`\n",
    "\n",
    "---\n",
    "\n",
    "**Importing a CSV File**\n",
    "\n",
    "`df = pd.read_csv(\"C:/Desktop/My_File.xlsx\")`"
   ]
  },
  {
   "cell_type": "markdown",
   "metadata": {},
   "source": [
    "### Specifying Additional Parameters when Importing\n",
    "\n",
    "Additionally, depending on your file, you may want to add extra parameters. You can add multiple parameters within the function if you need to use more than one.\n",
    "\n",
    "---\n",
    "\n",
    "#### Dates\n",
    "\n",
    "If your data has dates in its columns, then use `parse_dates`.\n",
    "\n",
    "`df = pd.read_csv(\"C:/Desktop/My_File.csv\", parse_dates=['Column_Name'])`\n",
    "\n",
    "---\n",
    "\n",
    "#### Selecting a specific Excel Sheet to Parse\n",
    "\n",
    "If you want to specify which sheet to read (defaults to the first sheet in the file), use `sheet_name`.\n",
    "\n",
    "`df = pd.read_excel(\"C:/Desktop/My_File.xlsx\", sheet_name=\"My_Sheet_Name\")`\n",
    "\n",
    "---\n",
    "\n",
    "#### Skipping the First Row of Data\n",
    "\n",
    "In the event you want to skip the first 'n' rows of data, use `skiprows`.\n",
    "\n",
    "`df = pd.read_csv(\"C:/Desktop/My_File.xlsx\", skiprows = 1)`"
   ]
  },
  {
   "cell_type": "markdown",
   "metadata": {},
   "source": [
    "#### Create a DataFrame from your clipboard (right click + copy)\n",
    "\n",
    "Copy the data from sources like Excel or Google Sheets onto your clipboard (right click + copy).\n",
    "\n",
    "![Data from Google Sheets](https://raw.githubusercontent.com/kn-kn/python-guide/master/Clipboard_Copying_Google_Sheets.PNG)"
   ]
  },
  {
   "cell_type": "code",
   "execution_count": 2,
   "metadata": {
    "scrolled": true
   },
   "outputs": [
    {
     "data": {
      "text/html": [
       "<div>\n",
       "<style scoped>\n",
       "    .dataframe tbody tr th:only-of-type {\n",
       "        vertical-align: middle;\n",
       "    }\n",
       "\n",
       "    .dataframe tbody tr th {\n",
       "        vertical-align: top;\n",
       "    }\n",
       "\n",
       "    .dataframe thead th {\n",
       "        text-align: right;\n",
       "    }\n",
       "</style>\n",
       "<table border=\"1\" class=\"dataframe\">\n",
       "  <thead>\n",
       "    <tr style=\"text-align: right;\">\n",
       "      <th></th>\n",
       "      <th>missing_values_list</th>\n",
       "      <th>=</th>\n",
       "      <th>[\"na\",</th>\n",
       "      <th>\"n/a\",</th>\n",
       "      <th>\"---\"]</th>\n",
       "    </tr>\n",
       "  </thead>\n",
       "  <tbody>\n",
       "  </tbody>\n",
       "</table>\n",
       "</div>"
      ],
      "text/plain": [
       "Empty DataFrame\n",
       "Columns: [missing_values_list, =, [\"na\",, \"n/a\",, \"---\"]]\n",
       "Index: []"
      ]
     },
     "execution_count": 2,
     "metadata": {},
     "output_type": "execute_result"
    }
   ],
   "source": [
    "df = pd.read_clipboard()\n",
    "df"
   ]
  },
  {
   "cell_type": "markdown",
   "metadata": {},
   "source": [
    "## Exporting Dataframes out of Python\n",
    "\n",
    "[Documentation for `to_excel()`](https://pandas.pydata.org/pandas-docs/stable/reference/api/pandas.DataFrame.to_excel.html)\n",
    "\n",
    "1. To export a Dataframe, use `ExcelWriter()` and specify the Excel file name you want to call your file. Place this function into a variable. Below, we used `writer` as the variable name.\n",
    "2. Use the `to_excel()` function with your variable in step 1) as one of the parameters. Optionally, you can specify the sheet name if you wish by adding the parameter `sheet_name`.\n",
    "3. OPTIONAL: If you do not want the index in your file, add the `index=False` parameter.\n",
    "4. Once you have completed all the additional parameters and settings, use `save()` to generate the file. The file will not save until you run this final `save()` command.\n",
    "\n",
    "The code for the steps above is the following:\n",
    "\n",
    "1. `writer = pd.ExcelWriter(\"My_Excel_File.xlsx\")`\n",
    "2. `df.to_excel(writer, sheet_name= 'Your_Sheet', index=False)`\n",
    "3. `writer.save()`\n",
    "\n",
    "---\n",
    "#### Exporting Multiple Dataframes into a single Excel File\n",
    "\n",
    "If you want to export multiple dataframes into a single Excel file, you can either:\n",
    "\n",
    "1. Export multiple dataframes into a single sheet\n",
    "2. Export multiple dataframes into their own respective sheets"
   ]
  },
  {
   "cell_type": "code",
   "execution_count": 3,
   "metadata": {},
   "outputs": [],
   "source": [
    "raw_data = {\n",
    "        'a': [0.200375, 0.335239],\n",
    "        'b': [0.660791, 0.047238], \n",
    "        'c': [0.982966, 0.100290],\n",
    "        'd': [0.064411, 0.588081],\n",
    "        'e': [0.661058, 0.638270],\n",
    "        'f': [0.554901, 0.267072],\n",
    "        'g': [0.335719, 0.086147],\n",
    "        'h': [0.223755, 0.358781],\n",
    "        'i': [0.994539, 0.575719]}\n",
    "\n",
    "\n",
    "df = pd.DataFrame(raw_data, columns = ['a', 'b', 'c'])\n",
    "df2 = pd.DataFrame(raw_data, columns = ['d', 'e', 'f'])\n",
    "df3 = pd.DataFrame(raw_data, columns = ['g', 'h', 'i'])"
   ]
  },
  {
   "cell_type": "code",
   "execution_count": 4,
   "metadata": {},
   "outputs": [
    {
     "data": {
      "text/html": [
       "<div>\n",
       "<style scoped>\n",
       "    .dataframe tbody tr th:only-of-type {\n",
       "        vertical-align: middle;\n",
       "    }\n",
       "\n",
       "    .dataframe tbody tr th {\n",
       "        vertical-align: top;\n",
       "    }\n",
       "\n",
       "    .dataframe thead th {\n",
       "        text-align: right;\n",
       "    }\n",
       "</style>\n",
       "<table border=\"1\" class=\"dataframe\">\n",
       "  <thead>\n",
       "    <tr style=\"text-align: right;\">\n",
       "      <th></th>\n",
       "      <th>a</th>\n",
       "      <th>b</th>\n",
       "      <th>c</th>\n",
       "    </tr>\n",
       "  </thead>\n",
       "  <tbody>\n",
       "    <tr>\n",
       "      <th>0</th>\n",
       "      <td>0.200375</td>\n",
       "      <td>0.660791</td>\n",
       "      <td>0.982966</td>\n",
       "    </tr>\n",
       "    <tr>\n",
       "      <th>1</th>\n",
       "      <td>0.335239</td>\n",
       "      <td>0.047238</td>\n",
       "      <td>0.100290</td>\n",
       "    </tr>\n",
       "  </tbody>\n",
       "</table>\n",
       "</div>"
      ],
      "text/plain": [
       "          a         b         c\n",
       "0  0.200375  0.660791  0.982966\n",
       "1  0.335239  0.047238  0.100290"
      ]
     },
     "execution_count": 4,
     "metadata": {},
     "output_type": "execute_result"
    }
   ],
   "source": [
    "df"
   ]
  },
  {
   "cell_type": "code",
   "execution_count": 5,
   "metadata": {},
   "outputs": [
    {
     "data": {
      "text/html": [
       "<div>\n",
       "<style scoped>\n",
       "    .dataframe tbody tr th:only-of-type {\n",
       "        vertical-align: middle;\n",
       "    }\n",
       "\n",
       "    .dataframe tbody tr th {\n",
       "        vertical-align: top;\n",
       "    }\n",
       "\n",
       "    .dataframe thead th {\n",
       "        text-align: right;\n",
       "    }\n",
       "</style>\n",
       "<table border=\"1\" class=\"dataframe\">\n",
       "  <thead>\n",
       "    <tr style=\"text-align: right;\">\n",
       "      <th></th>\n",
       "      <th>d</th>\n",
       "      <th>e</th>\n",
       "      <th>f</th>\n",
       "    </tr>\n",
       "  </thead>\n",
       "  <tbody>\n",
       "    <tr>\n",
       "      <th>0</th>\n",
       "      <td>0.064411</td>\n",
       "      <td>0.661058</td>\n",
       "      <td>0.554901</td>\n",
       "    </tr>\n",
       "    <tr>\n",
       "      <th>1</th>\n",
       "      <td>0.588081</td>\n",
       "      <td>0.638270</td>\n",
       "      <td>0.267072</td>\n",
       "    </tr>\n",
       "  </tbody>\n",
       "</table>\n",
       "</div>"
      ],
      "text/plain": [
       "          d         e         f\n",
       "0  0.064411  0.661058  0.554901\n",
       "1  0.588081  0.638270  0.267072"
      ]
     },
     "execution_count": 5,
     "metadata": {},
     "output_type": "execute_result"
    }
   ],
   "source": [
    "df2"
   ]
  },
  {
   "cell_type": "code",
   "execution_count": 6,
   "metadata": {
    "scrolled": true
   },
   "outputs": [
    {
     "data": {
      "text/html": [
       "<div>\n",
       "<style scoped>\n",
       "    .dataframe tbody tr th:only-of-type {\n",
       "        vertical-align: middle;\n",
       "    }\n",
       "\n",
       "    .dataframe tbody tr th {\n",
       "        vertical-align: top;\n",
       "    }\n",
       "\n",
       "    .dataframe thead th {\n",
       "        text-align: right;\n",
       "    }\n",
       "</style>\n",
       "<table border=\"1\" class=\"dataframe\">\n",
       "  <thead>\n",
       "    <tr style=\"text-align: right;\">\n",
       "      <th></th>\n",
       "      <th>g</th>\n",
       "      <th>h</th>\n",
       "      <th>i</th>\n",
       "    </tr>\n",
       "  </thead>\n",
       "  <tbody>\n",
       "    <tr>\n",
       "      <th>0</th>\n",
       "      <td>0.335719</td>\n",
       "      <td>0.223755</td>\n",
       "      <td>0.994539</td>\n",
       "    </tr>\n",
       "    <tr>\n",
       "      <th>1</th>\n",
       "      <td>0.086147</td>\n",
       "      <td>0.358781</td>\n",
       "      <td>0.575719</td>\n",
       "    </tr>\n",
       "  </tbody>\n",
       "</table>\n",
       "</div>"
      ],
      "text/plain": [
       "          g         h         i\n",
       "0  0.335719  0.223755  0.994539\n",
       "1  0.086147  0.358781  0.575719"
      ]
     },
     "execution_count": 6,
     "metadata": {},
     "output_type": "execute_result"
    }
   ],
   "source": [
    "df3"
   ]
  },
  {
   "cell_type": "markdown",
   "metadata": {},
   "source": [
    "**Export into a single sheet:**\n",
    "* By default, pandas will place your dataframe into cell A1. You can specify the exact position to place your dataframe by using the parameters `startrow=` and `startcol=`."
   ]
  },
  {
   "cell_type": "code",
   "execution_count": 7,
   "metadata": {},
   "outputs": [],
   "source": [
    "writer = pd.ExcelWriter(\"My_Excel_File.xlsx\")\n",
    "df.to_excel(writer, startrow=0, startcol=0)\n",
    "df2.to_excel(writer, startrow=4, startcol=0)\n",
    "df3.to_excel(writer, startrow=8, startcol=1)\n",
    "writer.save()"
   ]
  },
  {
   "cell_type": "markdown",
   "metadata": {},
   "source": [
    "![Exporting into a Single Sheet](https://github.com/kn-kn/python-guide/blob/master/Writing%20to%20a%20single%20sheet.PNG?raw=true)"
   ]
  },
  {
   "cell_type": "markdown",
   "metadata": {},
   "source": [
    "**Export into multiple sheets:**\n",
    "* By default, pandas will place your dataframes into Sheet1. You can specify different sheet names to place your dataframe by using the parameter `sheet_name=`."
   ]
  },
  {
   "cell_type": "code",
   "execution_count": 8,
   "metadata": {},
   "outputs": [],
   "source": [
    "writer = pd.ExcelWriter(\"My_Excel_File2.xlsx\")\n",
    "df.to_excel(writer, sheet_name=\"Table 1\")\n",
    "df2.to_excel(writer, sheet_name=\"Other Sheet\", startrow=2, startcol=0, index=False)\n",
    "writer.save()"
   ]
  },
  {
   "cell_type": "markdown",
   "metadata": {},
   "source": [
    "![Exporting into a Multiple Sheets](https://github.com/kn-kn/python-guide/blob/master/Writing%20to%20multiple%20sheets%20picture%201.PNG?raw=true)\n",
    "![Exporting into a Multiple Sheets Picture 2](https://github.com/kn-kn/python-guide/blob/master/Writing%20to%20multiple%20sheets%20picture%202.PNG?raw=true)"
   ]
  }
 ],
 "metadata": {
  "kernelspec": {
   "display_name": "Python 3",
   "language": "python",
   "name": "python3"
  },
  "language_info": {
   "codemirror_mode": {
    "name": "ipython",
    "version": 3
   },
   "file_extension": ".py",
   "mimetype": "text/x-python",
   "name": "python",
   "nbconvert_exporter": "python",
   "pygments_lexer": "ipython3",
   "version": "3.7.3"
  }
 },
 "nbformat": 4,
 "nbformat_minor": 2
}
