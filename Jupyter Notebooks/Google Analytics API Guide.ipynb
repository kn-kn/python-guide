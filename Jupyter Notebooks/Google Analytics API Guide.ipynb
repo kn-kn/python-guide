{
 "cells": [
  {
   "cell_type": "markdown",
   "metadata": {},
   "source": [
    "## Google Analytics API Setup Guide"
   ]
  },
  {
   "cell_type": "markdown",
   "metadata": {},
   "source": [
    "**Official Guide (v4)**\n",
    "\n",
    "* https://developers.google.com/analytics/devguides/reporting/core/v4/quickstart/service-py\n",
    "\n",
    "**Query Builder**\n",
    "\n",
    "* https://ga-dev-tools.appspot.com/request-composer/\n",
    "\n",
    "**Resources Consulted**\n",
    "\n",
    "* http://www.ryanpraski.com/google-analytics-reporting-api-python-tutorial/\n",
    "* http://serhiipuzyrov.com/2019/03/google-analytics-api-request-python\n",
    "* https://www.themarketingtechnologist.co/getting-started-with-the-google-analytics-reporting-api-in-python/"
   ]
  },
  {
   "cell_type": "markdown",
   "metadata": {},
   "source": [
    "## Initial Setup\n",
    "\n",
    "Following the developers guide, you will need to create a new service account (and project if you do not have one) and obtain the related JSON containing your private keys to connect to the Google Analytics API.\n",
    "\n",
    "The steps are summarized below, taken directly from the developers guide:\n",
    "\n",
    "![Official Steps](https://github.com/kn-kn/python-guide/blob/master/Google%20API%20Guide/Official_Steps_List.PNG?raw=true)"
   ]
  },
  {
   "cell_type": "markdown",
   "metadata": {},
   "source": [
    "---\n",
    "\n",
    "**1. First, if you have not created a project, create a project**\n",
    "\n",
    "![Create Project](https://github.com/kn-kn/python-guide/blob/master/Google%20API%20Guide/Create_Project.PNG?raw=true)"
   ]
  },
  {
   "cell_type": "markdown",
   "metadata": {},
   "source": [
    "---\n",
    "\n",
    "**2. Press the \"+ Create Service\" button to create a service. Set a service account name. The other sections are optional.**\n",
    "\n",
    "![Press Create Service](https://github.com/kn-kn/python-guide/blob/master/Google%20API%20Guide/Press_Create_Service.PNG?raw=true)\n",
    "\n",
    "---\n",
    "\n",
    "![Service Settings](https://github.com/kn-kn/python-guide/blob/master/Google%20API%20Guide/Service_Settings.PNG?raw=true)"
   ]
  },
  {
   "cell_type": "markdown",
   "metadata": {},
   "source": [
    "---\n",
    "\n",
    "**3. Download the key file in JSON format. This file is extremely important. Save it in a location you will remember!**\n",
    "\n",
    "![Create Key](https://github.com/kn-kn/python-guide/blob/master/Google%20API%20Guide/Create_Key.PNG?raw=true)"
   ]
  },
  {
   "cell_type": "markdown",
   "metadata": {},
   "source": [
    "---\n",
    "\n",
    "**4. Now you will need to give read & analyze access to this service account to the Google Analytics view that you want to use.**\n",
    "\n",
    "**To do this, use the email given to you once you've finished the previous step (see image below). Official support documents for adding a new user to a Google view can be found in the following:**\n",
    "\n",
    "https://support.google.com/analytics/answer/1009702\n",
    "\n",
    "![Email](https://github.com/kn-kn/python-guide/blob/master/Google%20API%20Guide/Email.PNG?raw=true)\n",
    "\n",
    "![GA Rights](https://github.com/kn-kn/python-guide/blob/master/Google%20API%20Guide/GA_Rights.PNG?raw=true)"
   ]
  },
  {
   "cell_type": "markdown",
   "metadata": {},
   "source": [
    "**5. Install the Google API python package. Use a package manager like `pip` to install it**.\n",
    "\n",
    "`pip install --upgrade google-api-python-client`"
   ]
  },
  {
   "cell_type": "markdown",
   "metadata": {},
   "source": [
    "## Code Setup"
   ]
  },
  {
   "cell_type": "code",
   "execution_count": null,
   "metadata": {},
   "outputs": [],
   "source": [
    "import pandas as pd\n",
    "import numpy as np"
   ]
  },
  {
   "cell_type": "markdown",
   "metadata": {},
   "source": [
    "The following cell contains code directly from the Google Analytics API Guide. Copy it and change the following two variables:\n",
    "\n",
    "* **SCOPES**: We've set our scope to read only. Use the URL given below for our example.\n",
    "* **KEY_FILE_LOCATION**: The previously downloaded JSON format. Point to its location.\n",
    "* **VIEW_ID**: The view ID you gave permission to your service earlier."
   ]
  },
  {
   "cell_type": "code",
   "execution_count": null,
   "metadata": {},
   "outputs": [],
   "source": [
    "\"\"\"Hello Analytics Reporting API V4.\"\"\"\n",
    "\n",
    "from apiclient.discovery import build\n",
    "from oauth2client.service_account import ServiceAccountCredentials\n",
    "\n",
    "# Ensure your variables are pointing to the right location!\n",
    "SCOPES = ['https://www.googleapis.com/auth/analytics.readonly']\n",
    "KEY_FILE_LOCATION = '<REPLACE_WITH_JSON_FILE>'\n",
    "VIEW_ID = '<REPLACE_WITH_VIEW_ID>'\n",
    "\n",
    "def initialize_analyticsreporting():\n",
    "  \"\"\"Initializes an Analytics Reporting API V4 service object.\n",
    "\n",
    "  Returns:\n",
    "    An authorized Analytics Reporting API V4 service object.\n",
    "  \"\"\"\n",
    "  credentials = ServiceAccountCredentials.from_json_keyfile_name(\n",
    "      KEY_FILE_LOCATION, SCOPES)\n",
    "\n",
    "  # Build the service object.\n",
    "  analytics = build('analyticsreporting', 'v4', credentials=credentials)\n",
    "\n",
    "  return analytics"
   ]
  },
  {
   "cell_type": "markdown",
   "metadata": {},
   "source": [
    "Using the Google Analytics Request Composer found here: https://ga-dev-tools.appspot.com/request-composer/\n",
    "\n",
    "Build the query you wish to request from Google API. Place that query into the body variable below.\n",
    "\n",
    "The second function in the cell below, `print_response()` contains code that will transform the output of `get_report()` which is a dictionary, into a Pandas Dataframe.\n",
    "\n",
    "**Important Note**: The Google Analytics API will always a maximum of 100k rows per result. To set it as 100k, add the `pageSize` parameter found below. If you wish to query more than 100k rows, consider creating a loop that appends multiple calls of smaller date ranges."
   ]
  },
  {
   "cell_type": "code",
   "execution_count": null,
   "metadata": {},
   "outputs": [],
   "source": [
    "def get_report(analytics):\n",
    "    return analytics.reports().batchGet(\n",
    "        # Place the dictionary you get from the Google Query Builder into the body variable below\n",
    "        body={\n",
    "            \"reportRequests\": [\n",
    "                {\n",
    "                    \"viewId\": \"<REPLACE_WITH_VIEW_ID>\",\n",
    "                    # Set the max rows to return. 100k is the Google Analytics API maximum it will return\n",
    "                    \"pageSize\": 100000,\n",
    "                    \"filtersExpression\": \"ga:pagePath=yourwebsitehere.com\",\n",
    "                    \"dateRanges\": [{\"startDate\": \"2019-06-01\", \"endDate\": \"2019-06-30\"}],\n",
    "                    \"metrics\": [{\"expression\": \"ga:uniquePageviews\", \"alias\": \"UniquePageviews\"}],\n",
    "                    \"dimensions\": [{\"name\": \"ga:pagePath\"}, {\"name\": \"ga:mobileDeviceInfo\"}]\n",
    "                }]\n",
    "        }\n",
    "\n",
    "    ).execute()\n",
    "\n",
    "response = get_report(initialize_analyticsreporting())\n",
    "\n",
    "# Transforms the dictionary response into a pandas dataframe\n",
    "def print_response(response):\n",
    "    list = []\n",
    "    for report in response.get('reports', []):\n",
    "        columnHeader = report.get('columnHeader', {})\n",
    "        dimensionHeaders = columnHeader.get('dimensions', [])\n",
    "        metricHeaders = columnHeader.get('metricHeader', {}).get('metricHeaderEntries', [])\n",
    "        rows = report.get('data', {}).get('rows', [])\n",
    "        for row in rows:\n",
    "            dict = {}\n",
    "            dimensions = row.get('dimensions', [])\n",
    "            dateRangeValues = row.get('metrics', [])\n",
    "            for header, dimension in zip(dimensionHeaders, dimensions):\n",
    "                dict[header] = dimension\n",
    "            for i, values in enumerate(dateRangeValues):\n",
    "                for metric, value in zip(metricHeaders, values.get('values')):\n",
    "                    if ',' in value or '.' in value:\n",
    "                        dict[metric.get('name')] = float(value)\n",
    "                    else:\n",
    "                        dict[metric.get('name')] = int(value)\n",
    "            list.append(dict)\n",
    "        df = pd.DataFrame(list)\n",
    "        return df\n",
    "\n",
    "# Place final result into pandas dataframe\n",
    "df = print_response(response)"
   ]
  },
  {
   "cell_type": "markdown",
   "metadata": {},
   "source": [
    "Your final result will be in the dataframe, `df`. You can now run your Python commands on `df`."
   ]
  }
 ],
 "metadata": {
  "kernelspec": {
   "display_name": "Python 3",
   "language": "python",
   "name": "python3"
  },
  "language_info": {
   "codemirror_mode": {
    "name": "ipython",
    "version": 3
   },
   "file_extension": ".py",
   "mimetype": "text/x-python",
   "name": "python",
   "nbconvert_exporter": "python",
   "pygments_lexer": "ipython3",
   "version": "3.7.3"
  }
 },
 "nbformat": 4,
 "nbformat_minor": 2
}
